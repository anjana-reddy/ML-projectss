{
  "nbformat": 4,
  "nbformat_minor": 0,
  "metadata": {
    "colab": {
      "private_outputs": true,
      "provenance": [],
      "authorship_tag": "ABX9TyPsma9IqsZJZUeNU42LpyM2",
      "include_colab_link": true
    },
    "kernelspec": {
      "name": "python3",
      "display_name": "Python 3"
    },
    "language_info": {
      "name": "python"
    }
  },
  "cells": [
    {
      "cell_type": "markdown",
      "metadata": {
        "id": "view-in-github",
        "colab_type": "text"
      },
      "source": [
        "<a href=\"https://colab.research.google.com/github/anjana-reddy/ML-projectss/blob/main/ML_Train_a_simple_Linear_Rergession_.ipynb\" target=\"_parent\"><img src=\"https://colab.research.google.com/assets/colab-badge.svg\" alt=\"Open In Colab\"/></a>"
      ]
    },
    {
      "cell_type": "code",
      "execution_count": null,
      "metadata": {
        "id": "hjJ__tB-7rx2"
      },
      "outputs": [],
      "source": [
        "import pandas as pd"
      ]
    },
    {
      "cell_type": "code",
      "source": [
        "dataset=pd.read_csv(\"/content/doggy-illness - doggy-illness.csv\")\n",
        "dataset"
      ],
      "metadata": {
        "id": "LRPPphH273k3"
      },
      "execution_count": null,
      "outputs": []
    },
    {
      "cell_type": "code",
      "source": [
        "import matplotlib.pyplot as plt\n",
        "def histogram(data, label_x, nbins, title, show=True):\n",
        "  plt.hist(data[label_x], nbins)\n",
        "  plt.title(title)\n",
        "  plt.xlabel(label_x)\n",
        "  plt.ylabel('Frequency')\n",
        "  if show:\n",
        "    plt.show()\n"
      ],
      "metadata": {
        "id": "P1-xGGwS73rE"
      },
      "execution_count": null,
      "outputs": []
    },
    {
      "cell_type": "code",
      "source": [
        "histogram(dataset, 'age', 10, 'Feature')\n",
        "histogram(dataset, 'core_temperature', 10, 'Label')"
      ],
      "metadata": {
        "id": "iOobhDKb73uT"
      },
      "execution_count": null,
      "outputs": []
    },
    {
      "cell_type": "code",
      "source": [
        "plt.scatter(dataset['age'], dataset['core_temperature'])\n",
        "plt.title('core temperature as a function of age')\n",
        "plt.xlabel('age')\n",
        "plt.ylabel('core_temperature')\n",
        "plt.show()"
      ],
      "metadata": {
        "id": "gS1XUlEe73xS"
      },
      "execution_count": null,
      "outputs": []
    },
    {
      "cell_type": "code",
      "source": [
        "import matplotlib.pyplot as plt\n",
        "import numpy as np\n",
        "from statsmodels.formula.api import ols\n",
        "\n",
        "# Perform linear regression\n",
        "formula = \"core_temperature ~ age\" # y = f(x)\n",
        "model = ols(formula, data=dataset).fit()\n",
        "\n",
        "# Create scatter plot with trendline\n",
        "x = dataset['age']\n",
        "y = dataset['core_temperature']\n",
        "x_trendline = np.linspace(x.min(), x.max(), 100) # creates an array of 100 evenly spaced values between the minimum and maximum ages\n",
        "y_trendline = model.params[1]*x_trendline + model.params[0] #y=mx+c\n",
        "plt.scatter(x, y)\n",
        "plt.plot(x_trendline, y_trendline, color='red')\n",
        "plt.show()"
      ],
      "metadata": {
        "id": "CFhdkykC730R"
      },
      "execution_count": null,
      "outputs": []
    },
    {
      "cell_type": "code",
      "source": [
        "print(\"Intercept:\", model.params[0], \"Slope:\", model.params[1])\n"
      ],
      "metadata": {
        "id": "b-4RRXqb733T"
      },
      "execution_count": null,
      "outputs": []
    },
    {
      "cell_type": "code",
      "source": [
        "def estimate_temperature(age):\n",
        "    # Model param[0] is the intercepts and param[1] is the slope\n",
        "    return age * model.params[1] + model.params[0]\n",
        "\n",
        "print(\"Estimate temperature from age\")\n",
        "print(estimate_temperature(age=0))"
      ],
      "metadata": {
        "id": "vg2zbXVqDUN1"
      },
      "execution_count": null,
      "outputs": []
    },
    {
      "cell_type": "code",
      "source": [
        "import matplotlib.pyplot as plt\n",
        "def scatter_2D(data,label_x,label_y,show=True):\n",
        "  plt.scatter(data[label_x],data[label_y])\n",
        "  plt.xlabel(label_x)\n",
        "  plt.ylabel(label_y)\n",
        "  plt.title(label_y + ' as a function of ' + label_x)\n",
        "  if show:\n",
        "    plt.show()\n",
        "\n",
        "scatter_2D(dataset,\"body_fat_percentage\",\"core_temperature\",\"show=True\")\n",
        "scatter_2D(dataset,\"protein_content_of_last_meal\",\"core_temperature\",\"show=True\")\n",
        "scatter_2D(dataset,\"age\",\"core_temperature\",\"show=True\")"
      ],
      "metadata": {
        "id": "cVCEy3wDDUQm"
      },
      "execution_count": null,
      "outputs": []
    },
    {
      "cell_type": "code",
      "source": [
        "import matplotlib.pyplot as plt\n",
        "import statsmodels.formula.api as smf\n"
      ],
      "metadata": {
        "id": "IEP_6v81DUT2"
      },
      "execution_count": null,
      "outputs": []
    },
    {
      "cell_type": "code",
      "source": [
        "for feature in [\"male\",\"age\",\"protein_content_of_last_meal\",\"body_fat_percentage\"]:\n",
        "  formula = \"core_temperature ~ \"+feature\n",
        "  simple_model =smf.ols(formula, data=dataset).fit()\n",
        "\n",
        "  print(feature)\n",
        "  print(\"R-squared:\",simple_model.rsquared)"
      ],
      "metadata": {
        "id": "Pi3Er4-iDUW9"
      },
      "execution_count": null,
      "outputs": []
    },
    {
      "cell_type": "code",
      "source": [],
      "metadata": {
        "id": "v8EbJkv4736s"
      },
      "execution_count": null,
      "outputs": []
    }
  ]
}