{
  "nbformat": 4,
  "nbformat_minor": 0,
  "metadata": {
    "colab": {
      "private_outputs": true,
      "provenance": [],
      "authorship_tag": "ABX9TyNAVtiFEq4APCiMyLwB8GZ1",
      "include_colab_link": true
    },
    "kernelspec": {
      "name": "python3",
      "display_name": "Python 3"
    },
    "language_info": {
      "name": "python"
    }
  },
  "cells": [
    {
      "cell_type": "markdown",
      "metadata": {
        "id": "view-in-github",
        "colab_type": "text"
      },
      "source": [
        "<a href=\"https://colab.research.google.com/github/anjana-reddy/ML-projectss/blob/main/ML_RANDOM_FOREST_CLASSIFIER.ipynb\" target=\"_parent\"><img src=\"https://colab.research.google.com/assets/colab-badge.svg\" alt=\"Open In Colab\"/></a>"
      ]
    },
    {
      "cell_type": "code",
      "execution_count": null,
      "metadata": {
        "id": "zH6siojdMrxG"
      },
      "outputs": [],
      "source": [
        "#import necessary libraries\n",
        "import pandas as pd\n",
        "import numpy as np\n",
        "import matplotlib.pyplot as py"
      ]
    },
    {
      "cell_type": "code",
      "source": [
        "#read csv file\n",
        "df=pd.read_csv(\"/content/banknote_authentication - banknote_authentication.csv\")"
      ],
      "metadata": {
        "id": "VzEyC3wqM5yt"
      },
      "execution_count": null,
      "outputs": []
    },
    {
      "cell_type": "code",
      "source": [
        "df.columns"
      ],
      "metadata": {
        "id": "oST2a80WM51j"
      },
      "execution_count": null,
      "outputs": []
    },
    {
      "cell_type": "code",
      "source": [
        "df.columns[df.isnull().any()]"
      ],
      "metadata": {
        "id": "BcCu-9tEM54V"
      },
      "execution_count": null,
      "outputs": []
    },
    {
      "cell_type": "code",
      "source": [
        "#count the number of values in each class\n",
        "df[\"authentic\"].value_counts()"
      ],
      "metadata": {
        "id": "rL925MJpM57I"
      },
      "execution_count": null,
      "outputs": []
    },
    {
      "cell_type": "code",
      "source": [
        "df.sample(n=5,random_state=55).sort_values(['variance'])"
      ],
      "metadata": {
        "id": "W-l0OQgIM5-h"
      },
      "execution_count": null,
      "outputs": []
    },
    {
      "cell_type": "code",
      "source": [
        "#split data into inputs and outputs\n",
        "X=df.drop('authentic',axis=1)\n",
        "y=df[\"authentic\"]"
      ],
      "metadata": {
        "id": "22R8a3hMO3ob"
      },
      "execution_count": null,
      "outputs": []
    },
    {
      "cell_type": "code",
      "source": [
        "#split data into training and testing\n",
        "from sklearn.model_selection import train_test_split\n",
        "X_train,X_test,y_train,y_test=train_test_split(X,y,test_size=0.3,random_state=1)"
      ],
      "metadata": {
        "id": "EjtBs8VAO67V"
      },
      "execution_count": null,
      "outputs": []
    },
    {
      "cell_type": "code",
      "source": [
        "#import RandomForestClassifier model and train it\n",
        "from sklearn.ensemble import RandomForestClassifier\n",
        "Classifier=RandomForestClassifier(random_state=0,min_samples_leaf=10)\n",
        "Classifier.fit(X_train,y_train)\n"
      ],
      "metadata": {
        "id": "RJsod4EpO692"
      },
      "execution_count": null,
      "outputs": []
    },
    {
      "cell_type": "code",
      "source": [
        "#predict the values\n",
        "y_test_hat=Classifier.predict(X_test)\n",
        "Results=pd.DataFrame({'actual':y_test})\n",
        "columns=pd.DataFrame({'prediction':y_test_hat})\n",
        "Result=Results.join(columns.set_index(Results.index))\n",
        "print(Result)"
      ],
      "metadata": {
        "id": "VNccPWjjO7Aw"
      },
      "execution_count": null,
      "outputs": []
    },
    {
      "cell_type": "code",
      "source": [
        "#check accuracy of testing data\n",
        "from sklearn.metrics import accuracy_score\n",
        "print(accuracy_score(y_test,y_test_hat))"
      ],
      "metadata": {
        "id": "wwATbxsXO7DE"
      },
      "execution_count": null,
      "outputs": []
    },
    {
      "cell_type": "code",
      "source": [
        "#check accuracy of training data\n",
        "y_train_hat=Classifier.predict(X_train)\n",
        "print(accuracy_score(y_train,y_train_hat))"
      ],
      "metadata": {
        "id": "Ix4iZVLpO7Fw"
      },
      "execution_count": null,
      "outputs": []
    },
    {
      "cell_type": "code",
      "source": [
        "#print confusion matrix\n",
        "from sklearn.metrics import confusion_matrix,recall_score,precision_score\n",
        "cm=confusion_matrix(y_test,y_test_hat)\n",
        "print(cm)"
      ],
      "metadata": {
        "id": "PxmAF-4tO7IL"
      },
      "execution_count": null,
      "outputs": []
    },
    {
      "cell_type": "code",
      "source": [
        "#calculate recall, precision, specificity\n",
        "TN=cm[0][0]\n",
        "FP=cm[0][1]\n",
        "FN=cm[1][0]\n",
        "TP=cm[1][1]\n",
        "recall=TP/float(FN+TP)\n",
        "percision=TP/float(TP+FP)\n",
        "specificity=TN/float(TN+FP)\n",
        "print(\"recall,percision,specificity=\",recall,percision,specificity)"
      ],
      "metadata": {
        "id": "ZuSoIEEfO7Kz"
      },
      "execution_count": null,
      "outputs": []
    },
    {
      "cell_type": "code",
      "source": [
        "#print importance of each feature\n",
        "feature_importances=pd.DataFrame(Classifier.feature_importances_,index=X_train.columns,columns=['importance']).sort_values('importance')\n",
        "feature_importances"
      ],
      "metadata": {
        "id": "B-TaG8yeO7OG"
      },
      "execution_count": null,
      "outputs": []
    },
    {
      "cell_type": "code",
      "execution_count": null,
      "metadata": {
        "id": "x0SrKpxOzn48"
      },
      "outputs": [],
      "source": [
        "#visualize 3 trees\n",
        "from sklearn.model_selection import RandomizedSearchCV\n",
        "from sklearn.tree import export_graphviz\n",
        "from IPython.display import Image\n",
        "import graphviz\n",
        "for i in range(3):\n",
        "    tree=Classifier.estimators_[i]\n",
        "    dot_data=export_graphviz(tree,feature_names=X_train.columns,filled=True,max_depth=2,impurity=False,proportion=True)\n",
        "    graph=graphviz.Source(dot_data)\n",
        "    display(graph)"
      ]
    },
    {
      "cell_type": "code",
      "source": [],
      "metadata": {
        "id": "sfz_vZ35UHJz"
      },
      "execution_count": null,
      "outputs": []
    },
    {
      "cell_type": "code",
      "source": [],
      "metadata": {
        "id": "tfU-Z0C9UHMc"
      },
      "execution_count": null,
      "outputs": []
    },
    {
      "cell_type": "code",
      "source": [],
      "metadata": {
        "id": "LCO0_UaNUHPf"
      },
      "execution_count": null,
      "outputs": []
    },
    {
      "cell_type": "code",
      "source": [],
      "metadata": {
        "id": "5RT63xdcUHSY"
      },
      "execution_count": null,
      "outputs": []
    },
    {
      "cell_type": "code",
      "source": [],
      "metadata": {
        "id": "NZbPTVIQUHV9"
      },
      "execution_count": null,
      "outputs": []
    }
  ]
}