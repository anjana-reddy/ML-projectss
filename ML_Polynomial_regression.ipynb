{
  "nbformat": 4,
  "nbformat_minor": 0,
  "metadata": {
    "colab": {
      "private_outputs": true,
      "provenance": [],
      "authorship_tag": "ABX9TyMlPcQhgd2sj6MhcZAacrFm",
      "include_colab_link": true
    },
    "kernelspec": {
      "name": "python3",
      "display_name": "Python 3"
    },
    "language_info": {
      "name": "python"
    }
  },
  "cells": [
    {
      "cell_type": "markdown",
      "metadata": {
        "id": "view-in-github",
        "colab_type": "text"
      },
      "source": [
        "<a href=\"https://colab.research.google.com/github/anjana-reddy/ML-projectss/blob/main/ML_Polynomial_regression.ipynb\" target=\"_parent\"><img src=\"https://colab.research.google.com/assets/colab-badge.svg\" alt=\"Open In Colab\"/></a>"
      ]
    },
    {
      "cell_type": "code",
      "execution_count": null,
      "metadata": {
        "id": "QZqqlCwkJUSf"
      },
      "outputs": [],
      "source": [
        "import pandas\n",
        "#Import the data from the .csv file\n",
        "dataset = pandas.read_csv(\"/content/doggy-illness - doggy-illness.csv\")\n",
        "\n",
        "#Let's have a look at the data\n",
        "dataset"
      ]
    },
    {
      "cell_type": "code",
      "execution_count": null,
      "metadata": {
        "id": "rVAqKHhYzG6g"
      },
      "outputs": [],
      "source": [
        "import matplotlib.pyplot as plt\n",
        "import statsmodels.formula.api as smf\n",
        "\n",
        "# Perform linear regression. This method takes care of\n",
        "# the entire fitting procedure for us.\n",
        "simple_formula = \"core_temperature ~ protein_content_of_last_meal\"\n",
        "simple_model = smf.ols(formula = simple_formula, data = dataset).fit()\n",
        "\n",
        "# Show a graph of the result\n",
        "plt.scatter(dataset['protein_content_of_last_meal'], dataset['core_temperature'])\n",
        "plt.plot(dataset['protein_content_of_last_meal'], simple_model.params[1] * dataset['protein_content_of_last_meal'] + simple_model.params[0], color='red')\n",
        "plt.xlabel('Protein content of last meal')\n",
        "plt.ylabel('Core temperature')\n",
        "plt.title('Linear regression of core temperature vs protein content of last meal')\n",
        "plt.show()"
      ]
    },
    {
      "cell_type": "code",
      "source": [
        "print(\"R-squared:\", simple_model.rsquared)"
      ],
      "metadata": {
        "id": "NfkkjWjnJ3B2"
      },
      "execution_count": null,
      "outputs": []
    },
    {
      "cell_type": "code",
      "source": [
        "# Extrapolate over the range of x = [0, 100]\n",
        "x_range = np.array(range(0, 101))\n",
        "# array x_range containing values from 0 to 100 (inclusive), representing the range of protein content of the last meal for extrapolation.\n",
        "\n",
        "y_range = simple_model.params[1] * x_range + simple_model.params[0]\n",
        "\n",
        "plt.figure(figsize=(6, 3))\n",
        "plt.scatter(dataset['protein_content_of_last_meal'], dataset['core_temperature'], label='Data Points')\n",
        "plt.plot(x_range, y_range, label='Extrapolated Trendline')\n",
        "plt.xlabel('Protein Content of Last Meal')\n",
        "plt.ylabel('Core Temperature')\n",
        "plt.legend()\n",
        "plt.show()"
      ],
      "metadata": {
        "id": "0Z7oLMIlJ6fC"
      },
      "execution_count": null,
      "outputs": []
    }
  ]
}