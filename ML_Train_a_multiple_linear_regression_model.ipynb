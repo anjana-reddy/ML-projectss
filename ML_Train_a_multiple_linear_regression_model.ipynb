{
  "nbformat": 4,
  "nbformat_minor": 0,
  "metadata": {
    "colab": {
      "private_outputs": true,
      "provenance": [],
      "authorship_tag": "ABX9TyPuDZEKiV6mBbqiqPRZlpnA",
      "include_colab_link": true
    },
    "kernelspec": {
      "name": "python3",
      "display_name": "Python 3"
    },
    "language_info": {
      "name": "python"
    }
  },
  "cells": [
    {
      "cell_type": "markdown",
      "metadata": {
        "id": "view-in-github",
        "colab_type": "text"
      },
      "source": [
        "<a href=\"https://colab.research.google.com/github/anjana-reddy/ML-projectss/blob/main/ML_Train_a_multiple_linear_regression_model.ipynb\" target=\"_parent\"><img src=\"https://colab.research.google.com/assets/colab-badge.svg\" alt=\"Open In Colab\"/></a>"
      ]
    },
    {
      "cell_type": "code",
      "execution_count": null,
      "metadata": {
        "id": "EyPnRgRlF-J9"
      },
      "outputs": [],
      "source": [
        "import pandas as pd\n",
        "\n",
        "\n",
        "#Import the data from the .csv file\n",
        "dataset = pd.read_csv(\"/content/doggy-illness - doggy-illness.csv\") #'\\t' indicates that tabs are used as delimiters.\n",
        "\n",
        "#Let's have a look at the data\n",
        "dataset"
      ]
    },
    {
      "cell_type": "code",
      "execution_count": null,
      "metadata": {
        "id": "cjvDKep4t_Te"
      },
      "outputs": [],
      "source": [
        "import matplotlib.pyplot as plt\n",
        "\n",
        "def scatter_2D(data, label_x, label_y, show=True):\n",
        "    plt.scatter(data[label_x], data[label_y])\n",
        "    plt.xlabel(label_x)\n",
        "    plt.ylabel(label_y)\n",
        "    plt.title(label_y + ' as a function of ' + label_x)\n",
        "    if show:\n",
        "        plt.show()\n",
        "\n",
        "# Example usage:\n",
        "scatter_2D(dataset, \"body_fat_percentage\", \"core_temperature\", show=True)\n",
        "scatter_2D(dataset, \"protein_content_of_last_meal\", \"core_temperature\", show=True)\n",
        "scatter_2D(dataset, \"age\", \"core_temperature\", show=True)"
      ]
    },
    {
      "cell_type": "code",
      "source": [],
      "metadata": {
        "id": "LsXo2hZUHtvf"
      },
      "execution_count": null,
      "outputs": []
    },
    {
      "cell_type": "code",
      "execution_count": null,
      "metadata": {
        "id": "j7LX8jh5uyCL"
      },
      "outputs": [],
      "source": [
        "import matplotlib.pyplot as plt\n",
        "import statsmodels.formula.api as smf\n",
        "\n",
        "\n",
        "for feature in [\"male\", \"age\", \"protein_content_of_last_meal\", \"body_fat_percentage\"]:\n",
        "    # Perform linear regression. This method takes care of\n",
        "    # the entire fitting procedure for us.\n",
        "    formula = \"core_temperature ~ \" + feature\n",
        "    simple_model = smf.ols(formula = formula, data = dataset).fit()\n",
        "\n",
        "    print(feature)\n",
        "    print(\"R-squared:\", simple_model.rsquared)\n",
        "\n",
        "    # Create scatter plot with trendline\n",
        "    plt.scatter(dataset[feature], dataset[\"core_temperature\"])\n",
        "    plt.plot(dataset[feature], simple_model.params[1]*dataset[feature] + simple_model.params[0], color='red')\n",
        "    plt.xlabel(feature)\n",
        "    plt.ylabel(\"core_temperature\")\n",
        "    plt.title(feature)\n",
        "    plt.show()"
      ]
    },
    {
      "cell_type": "code",
      "source": [
        "model = smf.ols(formula = \"core_temperature ~ age + male\", data = dataset).fit()\n",
        "# two independent feature(input) 1)age 2) male\n",
        "\n",
        "print(\"R-squared:\", model.rsquared)"
      ],
      "metadata": {
        "id": "o5GDYZZvH-Rv"
      },
      "execution_count": null,
      "outputs": []
    },
    {
      "cell_type": "code",
      "execution_count": null,
      "metadata": {
        "id": "K2LYGZAswd1D"
      },
      "outputs": [],
      "source": [
        "import numpy as np\n",
        "import matplotlib.pyplot as plt\n",
        "from mpl_toolkits.mplot3d import Axes3D\n",
        "\n",
        "def predict(age, male):\n",
        " #This converts given age and male values into a prediction from the model\n",
        "    df = pd.DataFrame(dict(age=[age], male=[male]))\n",
        "    return model.predict(df)\n",
        "\n",
        "# Create the surface graph\n",
        "fig = plt.figure()\n",
        "ax = fig.add_subplot(111, projection='3d')\n",
        "\n",
        "x_min, x_max = min(dataset.age), max(dataset.age)  # 1st Feature (age)\n",
        "y_min, y_max = 0, 1                     # 2nd Feature (male)\n",
        "X, Y = np.meshgrid(np.linspace(x_min, x_max, 100), np.linspace(y_min, y_max, 100))\n",
        "Z1 = np.array([predict(x, y_min) for x, y in zip(X.ravel(), Y.ravel())]).reshape(X.shape)\n",
        "Z2 = np.array([predict(x, y_max) for x, y in zip(X.ravel(), Y.ravel())]).reshape(X.shape)\n",
        "\n",
        "ax.plot_surface(X, Y, Z1, color='blue', alpha=0.5)\n",
        "ax.plot_surface(X, Y, Z2, color='orange', alpha=0.5)\n",
        "ax.scatter(dataset.age, dataset.male, dataset.core_temperature, c='red')\n",
        "\n",
        "ax.set_xlabel('Age')\n",
        "ax.set_ylabel('Male')\n",
        "ax.set_zlabel('Core Temperature')\n",
        "ax.set_title('3D Surface Plot')\n",
        "\n",
        "plt.show()"
      ]
    },
    {
      "cell_type": "code",
      "source": [
        "# Print summary information\n",
        "model.summary()"
      ],
      "metadata": {
        "id": "N8u490lVIsK8"
      },
      "execution_count": null,
      "outputs": []
    },
    {
      "cell_type": "code",
      "source": [],
      "metadata": {
        "id": "nLoVHfeQISGg"
      },
      "execution_count": null,
      "outputs": []
    }
  ]
}