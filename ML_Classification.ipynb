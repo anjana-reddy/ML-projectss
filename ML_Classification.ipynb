{
  "nbformat": 4,
  "nbformat_minor": 0,
  "metadata": {
    "colab": {
      "private_outputs": true,
      "provenance": [],
      "authorship_tag": "ABX9TyOQh0+9vOy2YzdRfU60tBEI",
      "include_colab_link": true
    },
    "kernelspec": {
      "name": "python3",
      "display_name": "Python 3"
    },
    "language_info": {
      "name": "python"
    }
  },
  "cells": [
    {
      "cell_type": "markdown",
      "metadata": {
        "id": "view-in-github",
        "colab_type": "text"
      },
      "source": [
        "<a href=\"https://colab.research.google.com/github/anjana-reddy/ML-projectss/blob/main/ML_Classification.ipynb\" target=\"_parent\"><img src=\"https://colab.research.google.com/assets/colab-badge.svg\" alt=\"Open In Colab\"/></a>"
      ]
    },
    {
      "cell_type": "code",
      "execution_count": null,
      "metadata": {
        "id": "d7kowhjnTua9"
      },
      "outputs": [],
      "source": [
        "#import statements\n",
        "import pandas as pd\n",
        "import numpy as np\n",
        "import matplotlib.pyplot as plt"
      ]
    },
    {
      "cell_type": "code",
      "source": [
        "#read loans data csv file\n",
        "data = pd.read_csv(\"/content/loans_dataset - loans_dataset.csv\")\n",
        "data"
      ],
      "metadata": {
        "id": "y_ZQnP2dUHct"
      },
      "execution_count": null,
      "outputs": []
    },
    {
      "cell_type": "code",
      "source": [
        "#function to visualise data\n",
        "def show_data(data):\n",
        "    count=\"\"\n",
        "    if isinstance(data, pd.DataFrame):\n",
        "        count=data['not.fully.paid'].value_counts()\n",
        "    else:\n",
        "        count=data.value_counts()\n",
        "    count.plot(kind='pie',explode=[0,0.1],figsize=(6,6),autopct='%1.1f%%', shadow=True)\n",
        "    plt.ylabel(\"Loan: Fully Paid v/s Not Fully Paid\")\n",
        "    plt.legend([\"Fully Paid\",\"Not Fully Paid\"])\n",
        "    plt.show()\n",
        "show_data(data)"
      ],
      "metadata": {
        "id": "4mse9KeOUSf0"
      },
      "execution_count": null,
      "outputs": []
    },
    {
      "cell_type": "code",
      "source": [
        "print(data.dtypes)"
      ],
      "metadata": {
        "id": "26z-oXPjUXmk"
      },
      "execution_count": null,
      "outputs": []
    },
    {
      "cell_type": "code",
      "source": [
        "#encode data into continuous values\n",
        "encoded_data=pd.get_dummies(data,prefix='purpose',drop_first=True)\n",
        "print(encoded_data.dtypes)\n"
      ],
      "metadata": {
        "id": "yXddfCTnWhps"
      },
      "execution_count": null,
      "outputs": []
    },
    {
      "cell_type": "code",
      "source": [
        "#split data into train and test\n",
        "from sklearn.model_selection import train_test_split\n",
        "X=encoded_data.drop('not.fully.paid',axis=1)\n",
        "y=encoded_data['not.fully.paid']\n",
        "X_train,X_test,y_train,y_test=train_test_split(X,y,test_size=0.3,stratify=y,random_state=2022)"
      ],
      "metadata": {
        "id": "z5-BRKQ7WkgQ"
      },
      "execution_count": null,
      "outputs": []
    },
    {
      "cell_type": "markdown",
      "source": [
        "#RANDOM SAMPLING"
      ],
      "metadata": {
        "id": "4BOGs3KRSpSk"
      }
    },
    {
      "cell_type": "code",
      "source": [
        "#code to write undersampling\n",
        "#Creating a copy of the training data\n",
        "X_train_cp=X_train.copy()\n",
        "#including the output\n",
        "X_train_cp['not.fully.paid']=y_train\n",
        "y_0=X_train_cp[X_train_cp['not.fully.paid'] == 0]\n",
        "y_1=X_train_cp[X_train_cp['not.fully.paid'] == 1]\n",
        "y_0_undersample = y_0.sample(y_1.shape[0])\n",
        "loan_data_undersample = pd.concat([y_0_undersample,y_1],axis=0)\n",
        "show_data(loan_data_undersample)"
      ],
      "metadata": {
        "id": "4CsCgztnWlBB"
      },
      "execution_count": null,
      "outputs": []
    },
    {
      "cell_type": "markdown",
      "source": [
        "SMOTE overSampling\n"
      ],
      "metadata": {
        "id": "n3KtA1cVaYb4"
      }
    },
    {
      "cell_type": "code",
      "source": [
        "#implement SMOTE\n",
        "from imblearn.over_sampling import SMOTE\n",
        "smote=SMOTE(sampling_strategy='minority')\n",
        "X_train_SMOTE,y_train_SMOTE=smote.fit_resample(X_train,y_train)\n",
        "show_data(y_train_SMOTE)"
      ],
      "metadata": {
        "id": "KcdJF-P9aeHE"
      },
      "execution_count": null,
      "outputs": []
    },
    {
      "cell_type": "code",
      "source": [],
      "metadata": {
        "id": "qmrERLutaeJw"
      },
      "execution_count": null,
      "outputs": []
    },
    {
      "cell_type": "code",
      "source": [],
      "metadata": {
        "id": "DC2_df44aeMu"
      },
      "execution_count": null,
      "outputs": []
    },
    {
      "cell_type": "code",
      "source": [],
      "metadata": {
        "id": "y4-yTjB_aePV"
      },
      "execution_count": null,
      "outputs": []
    },
    {
      "cell_type": "code",
      "source": [],
      "metadata": {
        "id": "7W4MxJiLaeR1"
      },
      "execution_count": null,
      "outputs": []
    },
    {
      "cell_type": "code",
      "source": [],
      "metadata": {
        "id": "94HLxhskaeUk"
      },
      "execution_count": null,
      "outputs": []
    },
    {
      "cell_type": "code",
      "source": [],
      "metadata": {
        "id": "Xvu36dQBaeXG"
      },
      "execution_count": null,
      "outputs": []
    },
    {
      "cell_type": "code",
      "source": [],
      "metadata": {
        "id": "DOdj-B5UaeaX"
      },
      "execution_count": null,
      "outputs": []
    }
  ]
}