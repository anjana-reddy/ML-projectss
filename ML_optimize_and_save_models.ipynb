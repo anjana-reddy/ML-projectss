{
  "nbformat": 4,
  "nbformat_minor": 0,
  "metadata": {
    "colab": {
      "private_outputs": true,
      "provenance": [],
      "authorship_tag": "ABX9TyPDEnuLZsELdZnoFwX8S81W",
      "include_colab_link": true
    },
    "kernelspec": {
      "name": "python3",
      "display_name": "Python 3"
    },
    "language_info": {
      "name": "python"
    }
  },
  "cells": [
    {
      "cell_type": "markdown",
      "metadata": {
        "id": "view-in-github",
        "colab_type": "text"
      },
      "source": [
        "<a href=\"https://colab.research.google.com/github/anjana-reddy/ML-projectss/blob/main/ML_optimize_and_save_models.ipynb\" target=\"_parent\"><img src=\"https://colab.research.google.com/assets/colab-badge.svg\" alt=\"Open In Colab\"/></a>"
      ]
    },
    {
      "cell_type": "code",
      "execution_count": null,
      "metadata": {
        "id": "GSHNzMbeSbSM"
      },
      "outputs": [],
      "source": [
        "import numpy as np\n",
        "import matplotlib.pyplot as plt\n",
        "from sklearn.datasets import load_iris\n",
        "from sklearn.model_selection import train_test_split, GridSearchCV\n",
        "from sklearn.ensemble import RandomForestRegressor\n",
        "from sklearn.metrics import mean_squared_error, make_scorer\n",
        "import joblib\n",
        "\n",
        "# Load dataset\n",
        "iris = load_iris()\n",
        "X = iris.data\n",
        "y = iris.target\n",
        "\n",
        "# Split data into train and test sets\n",
        "X_train, X_test, y_train, y_test = train_test_split(X, y, test_size=0.2, random_state=42)\n",
        "\n",
        "# Define the model\n",
        "model = RandomForestRegressor()\n",
        "\n",
        "# Define hyperparameters grid\n",
        "param_grid = {\n",
        "    'n_estimators': [50, 100, 200],   #number of trees in random forest\n",
        "    'max_depth': [None, 10, 20],\n",
        "    'min_samples_split': [2, 5, 10]\n",
        "}\n",
        "\n",
        "# Define GridSearchCV\n",
        "scoring = make_scorer(mean_squared_error, greater_is_better=False) ##based on mse\n",
        "grid_search = GridSearchCV(estimator=model, param_grid=param_grid, cv=5, scoring=scoring) ##search the grid with model,grid hyperparameters, cross validation folds=5\n",
        "\n",
        "\n",
        "# Fit GridSearchCV\n",
        "grid_search.fit(X_train, y_train) ##train and evaluate using diff combinations\n",
        "\n",
        "# Get the best model\n",
        "best_model = grid_search.best_estimator_\n",
        "\n",
        "# Make predictions on the test set\n",
        "y_pred = best_model.predict(X_test)\n",
        "\n",
        "# Evaluate the model\n",
        "# Evaluate the model\n",
        "mse = mean_squared_error(y_test, y_pred)\n",
        "neg_mse = -mse  # Negative mean squared error\n",
        "print(\"Negative Mean Squared Error:\", neg_mse)\n",
        "\n",
        "# Visualize hyperparameters performance\n",
        "results = grid_search.cv_results_\n",
        "params = results['params']\n",
        "mean_test_score = results['mean_test_score']\n",
        "\n",
        "plt.figure(figsize=(10, 5))\n",
        "for i, param in enumerate(param_grid.keys()):\n",
        "    values = [x[param] for x in params]\n",
        "    plt.plot(values, mean_test_score, marker='o', label=param)\n",
        "\n",
        "plt.xlabel('Hyperparameter Values')\n",
        "plt.ylabel('Mean Test Score')\n",
        "plt.title('Hyperparameters Optimization')\n",
        "plt.legend()\n",
        "plt.grid(True)\n",
        "plt.show()\n",
        "\n",
        "# Save the best model to disk\n",
        "joblib.dump(best_model, 'best_model.pkl')\n"
      ]
    }
  ]
}